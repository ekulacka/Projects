{
 "cells": [
  {
   "cell_type": "code",
<<<<<<< HEAD
   "execution_count": 1,
=======
   "execution_count": 9,
>>>>>>> refs/remotes/origin/master
   "metadata": {},
   "outputs": [],
   "source": [
    "import numpy as np\n",
    "import matplotlib.pyplot as plt\n",
    "import pandas as pd\n",
    "import numpy as np\n",
<<<<<<< HEAD
    "import seaborn as sns\n",
    "%matplotlib inline"
=======
    "import seaborn as sns"
>>>>>>> refs/remotes/origin/master
   ]
  },
  {
   "cell_type": "code",
   "execution_count": 2,
   "metadata": {},
   "outputs": [],
   "source": [
    "data=pd.read_csv('diabetes.csv')"
   ]
  },
  {
   "cell_type": "code",
<<<<<<< HEAD
   "execution_count": 3,
=======
   "execution_count": 28,
>>>>>>> refs/remotes/origin/master
   "metadata": {},
   "outputs": [
    {
     "data": {
      "text/html": [
       "<div>\n",
       "<style scoped>\n",
       "    .dataframe tbody tr th:only-of-type {\n",
       "        vertical-align: middle;\n",
       "    }\n",
       "\n",
       "    .dataframe tbody tr th {\n",
       "        vertical-align: top;\n",
       "    }\n",
       "\n",
       "    .dataframe thead th {\n",
       "        text-align: right;\n",
       "    }\n",
       "</style>\n",
       "<table border=\"1\" class=\"dataframe\">\n",
       "  <thead>\n",
       "    <tr style=\"text-align: right;\">\n",
       "      <th></th>\n",
       "      <th>Pregnancies</th>\n",
       "      <th>Glucose</th>\n",
       "      <th>BloodPressure</th>\n",
       "      <th>SkinThickness</th>\n",
       "      <th>Insulin</th>\n",
       "      <th>BMI</th>\n",
       "      <th>DiabetesPedigreeFunction</th>\n",
       "      <th>Age</th>\n",
       "      <th>Outcome</th>\n",
       "    </tr>\n",
       "  </thead>\n",
       "  <tbody>\n",
       "    <tr>\n",
       "      <th>0</th>\n",
       "      <td>6</td>\n",
       "      <td>148</td>\n",
       "      <td>72</td>\n",
       "      <td>35</td>\n",
       "      <td>0</td>\n",
       "      <td>33.6</td>\n",
       "      <td>0.627</td>\n",
       "      <td>50</td>\n",
       "      <td>1</td>\n",
       "    </tr>\n",
       "    <tr>\n",
       "      <th>1</th>\n",
       "      <td>1</td>\n",
       "      <td>85</td>\n",
       "      <td>66</td>\n",
       "      <td>29</td>\n",
       "      <td>0</td>\n",
       "      <td>26.6</td>\n",
       "      <td>0.351</td>\n",
       "      <td>31</td>\n",
       "      <td>0</td>\n",
       "    </tr>\n",
       "    <tr>\n",
       "      <th>2</th>\n",
       "      <td>8</td>\n",
       "      <td>183</td>\n",
       "      <td>64</td>\n",
       "      <td>0</td>\n",
       "      <td>0</td>\n",
       "      <td>23.3</td>\n",
       "      <td>0.672</td>\n",
       "      <td>32</td>\n",
       "      <td>1</td>\n",
       "    </tr>\n",
       "    <tr>\n",
       "      <th>3</th>\n",
       "      <td>1</td>\n",
       "      <td>89</td>\n",
       "      <td>66</td>\n",
       "      <td>23</td>\n",
       "      <td>94</td>\n",
       "      <td>28.1</td>\n",
       "      <td>0.167</td>\n",
       "      <td>21</td>\n",
       "      <td>0</td>\n",
       "    </tr>\n",
       "    <tr>\n",
       "      <th>4</th>\n",
       "      <td>0</td>\n",
       "      <td>137</td>\n",
       "      <td>40</td>\n",
       "      <td>35</td>\n",
       "      <td>168</td>\n",
       "      <td>43.1</td>\n",
       "      <td>2.288</td>\n",
       "      <td>33</td>\n",
       "      <td>1</td>\n",
       "    </tr>\n",
       "  </tbody>\n",
       "</table>\n",
       "</div>"
      ],
      "text/plain": [
       "   Pregnancies  Glucose  BloodPressure  SkinThickness  Insulin   BMI  \\\n",
       "0            6      148             72             35        0  33.6   \n",
       "1            1       85             66             29        0  26.6   \n",
       "2            8      183             64              0        0  23.3   \n",
       "3            1       89             66             23       94  28.1   \n",
       "4            0      137             40             35      168  43.1   \n",
       "\n",
       "   DiabetesPedigreeFunction  Age  Outcome  \n",
       "0                     0.627   50        1  \n",
       "1                     0.351   31        0  \n",
       "2                     0.672   32        1  \n",
       "3                     0.167   21        0  \n",
       "4                     2.288   33        1  "
      ]
     },
<<<<<<< HEAD
     "execution_count": 3,
=======
     "execution_count": 28,
>>>>>>> refs/remotes/origin/master
     "metadata": {},
     "output_type": "execute_result"
    }
   ],
   "source": [
    "data.head()"
   ]
  },
  {
   "cell_type": "markdown",
   "metadata": {},
   "source": [
    "Outcome\n",
    "1: diabetes\n",
    "0: no diabetes\n",
    "    \n",
    "Pregnancies\n",
    "number of times pregnant"
   ]
  },
  {
   "cell_type": "code",
<<<<<<< HEAD
   "execution_count": 4,
=======
   "execution_count": 5,
>>>>>>> refs/remotes/origin/master
   "metadata": {},
   "outputs": [
    {
     "data": {
      "text/plain": [
       "(768, 9)"
      ]
     },
<<<<<<< HEAD
     "execution_count": 4,
=======
     "execution_count": 5,
>>>>>>> refs/remotes/origin/master
     "metadata": {},
     "output_type": "execute_result"
    }
   ],
   "source": [
    "data.shape"
   ]
  },
  {
   "cell_type": "code",
<<<<<<< HEAD
   "execution_count": 5,
=======
   "execution_count": 8,
>>>>>>> refs/remotes/origin/master
   "metadata": {},
   "outputs": [
    {
     "data": {
      "text/plain": [
       "Pregnancies                 0\n",
       "Glucose                     0\n",
       "BloodPressure               0\n",
       "SkinThickness               0\n",
       "Insulin                     0\n",
       "BMI                         0\n",
       "DiabetesPedigreeFunction    0\n",
       "Age                         0\n",
       "Outcome                     0\n",
       "dtype: int64"
      ]
     },
<<<<<<< HEAD
     "execution_count": 5,
=======
     "execution_count": 8,
>>>>>>> refs/remotes/origin/master
     "metadata": {},
     "output_type": "execute_result"
    }
   ],
   "source": [
    "data.isnull().sum()"
   ]
  },
  {
   "cell_type": "code",
<<<<<<< HEAD
   "execution_count": 6,
   "metadata": {},
   "outputs": [
    {
     "data": {
      "text/plain": [
       "Text(0, 0.5, 'Number of people')"
      ]
     },
     "execution_count": 6,
     "metadata": {},
     "output_type": "execute_result"
    },
    {
     "data": {
      "image/png": "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\n",
      "text/plain": [
       "<Figure size 360x360 with 1 Axes>"
      ]
     },
     "metadata": {
      "needs_background": "light"
     },
     "output_type": "display_data"
    }
   ],
   "source": [
    "plt.figure(figsize=(5,5))\n",
    "sns.countplot(x='Outcome',data=data)\n",
    "plt.title('Outcome to Diabetes in Dataset')\n",
    "plt.ylabel('Number of people')"
   ]
  },
  {
   "cell_type": "code",
   "execution_count": 7,
=======
   "execution_count": 23,
>>>>>>> refs/remotes/origin/master
   "metadata": {},
   "outputs": [
    {
     "data": {
      "text/plain": [
       "0    500\n",
       "1    268\n",
       "Name: Outcome, dtype: int64"
      ]
     },
<<<<<<< HEAD
     "execution_count": 7,
=======
     "execution_count": 23,
>>>>>>> refs/remotes/origin/master
     "metadata": {},
     "output_type": "execute_result"
    }
   ],
   "source": [
    "data['Outcome'].value_counts()"
   ]
  },
  {
   "cell_type": "markdown",
   "metadata": {},
   "source": [
    "We have 268 person with diabetes and 500 whithout it. We can clearly see that is an unbalanced dataset. It is critical to know this for a few reasons:\n",
    "\n",
    "The algorithms of machine learning like LogisticRegression os SVM, tend to think that the data is balanced. But if the data is unbalanced they will put more weight on the majority class.\n",
    "The accuracy is not a useful metric now. Because of that we use other metrics, such as Roc_Auc, sensitivity, specificity..."
   ]
  },
  {
   "cell_type": "code",
<<<<<<< HEAD
   "execution_count": 8,
   "metadata": {},
   "outputs": [
    {
     "data": {
      "text/plain": [
       "<matplotlib.axes._subplots.AxesSubplot at 0x265622b60b8>"
      ]
     },
     "execution_count": 8,
     "metadata": {},
     "output_type": "execute_result"
    },
    {
     "data": {
      "image/png": "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\n",
      "text/plain": [
       "<Figure size 432x288 with 1 Axes>"
      ]
     },
     "metadata": {
      "needs_background": "light"
     },
     "output_type": "display_data"
    }
   ],
   "source": [
    "sns.countplot(x='Pregnancies',data=data,hue='Outcome')"
   ]
  },
  {
   "cell_type": "code",
   "execution_count": 9,
   "metadata": {},
   "outputs": [
    {
     "name": "stdout",
     "output_type": "stream",
     "text": [
      "Average number of pregnancies for positive outcomes: 4.865671641791045\n",
      "Average number of pregnancies for negative outcomes: 3.298\n"
     ]
    }
   ],
   "source": [
    "print('Average number of pregnancies for positive outcomes: ' + str(data[data['Outcome']==1]['Pregnancies'].mean()))\n",
    "print('Average number of pregnancies for negative outcomes: ' + str(data[data['Outcome']==0]['Pregnancies'].mean()))"
   ]
  },
  {
   "cell_type": "code",
   "execution_count": 10,
   "metadata": {},
   "outputs": [
    {
     "name": "stderr",
     "output_type": "stream",
     "text": [
      "C:\\Users\\Ewa\\Anaconda3\\lib\\site-packages\\scipy\\stats\\stats.py:1713: FutureWarning: Using a non-tuple sequence for multidimensional indexing is deprecated; use `arr[tuple(seq)]` instead of `arr[seq]`. In the future this will be interpreted as an array index, `arr[np.array(seq)]`, which will result either in an error or a different result.\n",
      "  return np.add.reduce(sorted[indexer] * weights, axis=axis) / sumval\n"
     ]
    },
    {
     "data": {
      "text/plain": [
       "<matplotlib.axes._subplots.AxesSubplot at 0x2656238c048>"
      ]
     },
     "execution_count": 10,
     "metadata": {},
     "output_type": "execute_result"
    },
    {
     "data": {
      "image/png": "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\n",
      "text/plain": [
       "<Figure size 432x288 with 1 Axes>"
      ]
     },
     "metadata": {
      "needs_background": "light"
     },
     "output_type": "display_data"
    }
   ],
   "source": [
    "sns.distplot(data['Age'])"
   ]
  },
  {
   "cell_type": "code",
   "execution_count": 11,
   "metadata": {},
   "outputs": [
    {
     "data": {
      "text/plain": [
       "Text(0.5, 0, 'Age')"
      ]
     },
     "execution_count": 11,
     "metadata": {},
     "output_type": "execute_result"
    },
    {
     "data": {
      "image/png": "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\n",
      "text/plain": [
       "<Figure size 720x432 with 1 Axes>"
      ]
     },
     "metadata": {
      "needs_background": "light"
     },
     "output_type": "display_data"
    }
   ],
   "source": [
    "plt.figure(figsize=(10,6))\n",
    "data[data['Outcome']==1]['Age'].hist(alpha=0.5,color='blue',\n",
    "                                              bins=30,label='Outcome=1')\n",
    "data[data['Outcome']==0]['Age'].hist(alpha=0.5,color='red',\n",
    "                                              bins=30,label='Outcome=0')\n",
    "plt.legend()\n",
    "plt.xlabel('Age')"
   ]
  },
  {
   "cell_type": "code",
   "execution_count": 12,
=======
   "execution_count": 29,
>>>>>>> refs/remotes/origin/master
   "metadata": {},
   "outputs": [],
   "source": [
    "# define X and y\n",
    "feature_cols = ['Pregnancies', 'Insulin', 'BMI', 'Age']\n",
    "X=data[feature_cols]\n",
    "y=data['Outcome']\n"
   ]
  },
  {
   "cell_type": "code",
<<<<<<< HEAD
   "execution_count": 13,
=======
   "execution_count": 33,
>>>>>>> refs/remotes/origin/master
   "metadata": {},
   "outputs": [],
   "source": [
    "# split X and y into training and testing sets\n",
    "from sklearn.model_selection import train_test_split\n",
    "X_train, X_test, y_train, y_test = train_test_split(X, y, random_state=0)"
   ]
  },
  {
   "cell_type": "code",
<<<<<<< HEAD
   "execution_count": 16,
=======
   "execution_count": 34,
>>>>>>> refs/remotes/origin/master
   "metadata": {},
   "outputs": [
    {
     "name": "stderr",
     "output_type": "stream",
     "text": [
      "C:\\Users\\Ewa\\Anaconda3\\lib\\site-packages\\sklearn\\linear_model\\logistic.py:433: FutureWarning: Default solver will be changed to 'lbfgs' in 0.22. Specify a solver to silence this warning.\n",
      "  FutureWarning)\n"
     ]
    },
    {
     "data": {
      "text/plain": [
       "LogisticRegression(C=1.0, class_weight=None, dual=False, fit_intercept=True,\n",
       "          intercept_scaling=1, max_iter=100, multi_class='warn',\n",
       "          n_jobs=None, penalty='l2', random_state=None, solver='warn',\n",
       "          tol=0.0001, verbose=0, warm_start=False)"
      ]
     },
<<<<<<< HEAD
     "execution_count": 16,
=======
     "execution_count": 34,
>>>>>>> refs/remotes/origin/master
     "metadata": {},
     "output_type": "execute_result"
    }
   ],
   "source": [
    "# train a logistic regression model on the training set\n",
    "from sklearn.linear_model import LogisticRegression\n",
    "\n",
    "clf = LogisticRegression()\n",
    "clf.fit(X_train, y_train)"
   ]
  },
  {
   "cell_type": "code",
<<<<<<< HEAD
   "execution_count": 17,
=======
   "execution_count": 35,
>>>>>>> refs/remotes/origin/master
   "metadata": {},
   "outputs": [],
   "source": [
    "# make class predictions for the testing set\n",
    "y_pred_class = clf.predict(X_test)"
   ]
  },
  {
   "cell_type": "code",
<<<<<<< HEAD
   "execution_count": 18,
=======
   "execution_count": 37,
>>>>>>> refs/remotes/origin/master
   "metadata": {},
   "outputs": [
    {
     "name": "stdout",
     "output_type": "stream",
     "text": [
      "0.6927083333333334\n"
     ]
    }
   ],
   "source": [
    "# calculate accuracy\n",
    "from sklearn import metrics\n",
    "print(metrics.accuracy_score(y_test, y_pred_class))"
   ]
  },
  {
   "cell_type": "markdown",
   "metadata": {},
   "source": [
    "#### Classification accuracy is 69%"
   ]
  },
  {
   "cell_type": "markdown",
   "metadata": {},
   "source": [
    "#### Null accuracy: accuracy that could be achieved by always predicting the most frequent class. Another words:Baseline accuracy that can be achieved by always predicting the most frequent class (“B has the highest frequency, so lets guess B every time”)."
   ]
  },
  {
   "cell_type": "code",
<<<<<<< HEAD
   "execution_count": 19,
=======
   "execution_count": 38,
>>>>>>> refs/remotes/origin/master
   "metadata": {},
   "outputs": [
    {
     "data": {
      "text/plain": [
       "0    130\n",
       "1     62\n",
       "Name: Outcome, dtype: int64"
      ]
     },
<<<<<<< HEAD
     "execution_count": 19,
=======
     "execution_count": 38,
>>>>>>> refs/remotes/origin/master
     "metadata": {},
     "output_type": "execute_result"
    }
   ],
   "source": [
    "# examine the class distribution of the testing set\n",
    "y_test.value_counts()"
   ]
  },
  {
   "cell_type": "code",
<<<<<<< HEAD
   "execution_count": 20,
=======
   "execution_count": 40,
>>>>>>> refs/remotes/origin/master
   "metadata": {},
   "outputs": [
    {
     "data": {
      "text/plain": [
       "0.6770833333333333"
      ]
     },
<<<<<<< HEAD
     "execution_count": 20,
=======
     "execution_count": 40,
>>>>>>> refs/remotes/origin/master
     "metadata": {},
     "output_type": "execute_result"
    }
   ],
   "source": [
    "# calculate null accuracy in a single line of code\n",
    "# only for binary classification problems coded as 0/1\n",
    "\n",
    "max(y_test.mean(), 1 - y_test.mean())"
   ]
  },
  {
   "cell_type": "markdown",
   "metadata": {},
   "source": [
    "#### This means that a dumb model that always predicts 0 would be right 68% of the time. This shows how classification accuracy is not that good as it's close to a dumb model"
   ]
  },
  {
   "cell_type": "code",
<<<<<<< HEAD
   "execution_count": 21,
=======
   "execution_count": 42,
>>>>>>> refs/remotes/origin/master
   "metadata": {},
   "outputs": [
    {
     "data": {
      "text/plain": [
       "0    0.677083\n",
       "Name: Outcome, dtype: float64"
      ]
     },
<<<<<<< HEAD
     "execution_count": 21,
=======
     "execution_count": 42,
>>>>>>> refs/remotes/origin/master
     "metadata": {},
     "output_type": "execute_result"
    }
   ],
   "source": [
    "# calculate null accuracy (for multi-class classification problems)\n",
    "\n",
    "y_test.value_counts().head(1) / len(y_test)"
   ]
  },
  {
   "cell_type": "markdown",
   "metadata": {},
   "source": [
    "#### Classification accuracy is the easiest classification metric to understand. But, it does not tell you the underlying distribution of response values. We examine by calculating the null accuracy\n"
   ]
  },
  {
   "cell_type": "code",
<<<<<<< HEAD
   "execution_count": 22,
=======
   "execution_count": 49,
>>>>>>> refs/remotes/origin/master
   "metadata": {},
   "outputs": [
    {
     "name": "stdout",
     "output_type": "stream",
     "text": [
      "[[118  12]\n",
      " [ 47  15]]\n"
     ]
    }
   ],
   "source": [
    "confusion = metrics.confusion_matrix(y_test,y_pred_class)\n",
    "print(confusion)"
   ]
  },
  {
   "cell_type": "markdown",
   "metadata": {},
   "source": [
    "### column 0 = PREDICTED 0\n",
    "### column 1 = PREDICTED 1\n",
    "### row 0 = ACTUAL 0\n",
    "### row 1 = ACTUAL 1"
   ]
  },
  {
   "cell_type": "markdown",
   "metadata": {},
   "source": [
    "#### True Positives (TP): we correctly predicted that they do have diabetes\n",
    "15\n",
    "#### True Negatives (TN): we correctly predicted that they don't have diabetes\n",
    "118\n",
    "#### False Positives (FP): we incorrectly predicted that they do have diabetes (a \"Type I error\")\n",
    "12\n",
    "#### False Negatives (FN): we incorrectly predicted that they don't have diabetes (a \"Type II error\")\n",
    "47\n"
   ]
  },
  {
   "cell_type": "code",
<<<<<<< HEAD
   "execution_count": 23,
=======
   "execution_count": 47,
>>>>>>> refs/remotes/origin/master
   "metadata": {},
   "outputs": [
    {
     "name": "stdout",
     "output_type": "stream",
     "text": [
      "True [1 0 0 1 0 0 1 1 0 0]\n",
      "Pred [0 0 0 0 0 0 0 1 0 1]\n"
     ]
    }
   ],
   "source": [
    "# print the first 10 true and predicted responses\n",
    "print('True', y_test.values[0:10])\n",
    "print('Pred', y_pred_class[0:10])"
   ]
  },
  {
   "cell_type": "code",
<<<<<<< HEAD
   "execution_count": 24,
=======
   "execution_count": 55,
>>>>>>> refs/remotes/origin/master
   "metadata": {},
   "outputs": [
    {
     "name": "stdout",
     "output_type": "stream",
     "text": [
      "[[118  12]\n",
      " [ 47  15]]\n"
     ]
    }
   ],
   "source": [
    "print(confusion)\n",
    "TP = confusion[1, 1]\n",
    "TN = confusion[0, 0]\n",
    "FP = confusion[0, 1]\n",
    "FN = confusion[1, 0]"
   ]
  },
  {
   "cell_type": "markdown",
   "metadata": {},
   "source": [
    "### Metrics computed from a confusion matrix:"
   ]
  },
  {
   "cell_type": "code",
<<<<<<< HEAD
   "execution_count": 25,
=======
   "execution_count": 58,
>>>>>>> refs/remotes/origin/master
   "metadata": {},
   "outputs": [
    {
     "name": "stdout",
     "output_type": "stream",
     "text": [
      "0.6927083333333334\n",
      "0.6927083333333334\n"
     ]
    }
   ],
   "source": [
    "# Classification Accuracy\n",
    "\n",
    "accuracy=(TP + TN) / float(TP + TN + FP + FN)\n",
    "print(accuracy)\n",
    "print(metrics.accuracy_score(y_test, y_pred_class))"
   ]
  },
  {
   "cell_type": "code",
<<<<<<< HEAD
   "execution_count": 26,
=======
   "execution_count": 59,
>>>>>>> refs/remotes/origin/master
   "metadata": {},
   "outputs": [
    {
     "name": "stdout",
     "output_type": "stream",
     "text": [
      "0.24193548387096775\n",
      "0.24193548387096775\n"
     ]
    }
   ],
   "source": [
    "# Sensitivity also known as \"True Positive Rate\" or \"Recall\"\n",
    "# When the actual value is positive, how often is the prediction correct?\n",
    "\n",
    "sensitivity = TP / float(FN + TP)\n",
    "print(sensitivity)\n",
    "print(metrics.recall_score(y_test, y_pred_class))"
   ]
  },
  {
   "cell_type": "code",
<<<<<<< HEAD
   "execution_count": 27,
=======
   "execution_count": 60,
>>>>>>> refs/remotes/origin/master
   "metadata": {},
   "outputs": [
    {
     "name": "stdout",
     "output_type": "stream",
     "text": [
      "0.9076923076923077\n"
     ]
    }
   ],
   "source": [
    "# Specificity\n",
    "# When the actual value is negative, how often is the prediction correct?\n",
    "\n",
    "specificity = TN / (TN + FP)\n",
    "print(specificity)"
   ]
  },
  {
   "cell_type": "code",
<<<<<<< HEAD
   "execution_count": 28,
=======
   "execution_count": 61,
>>>>>>> refs/remotes/origin/master
   "metadata": {},
   "outputs": [
    {
     "name": "stdout",
     "output_type": "stream",
     "text": [
      "0.09230769230769231\n",
      "0.09230769230769231\n"
     ]
    }
   ],
   "source": [
    "# False Positive Rate\n",
    "# When the actual value is negative, how often is the prediction incorrect?\n",
    "\n",
    "false_positive_rate = FP / float(TN + FP)\n",
    "print(false_positive_rate)\n",
    "print(1 - specificity)"
   ]
  },
  {
   "cell_type": "code",
<<<<<<< HEAD
   "execution_count": 29,
=======
   "execution_count": 62,
>>>>>>> refs/remotes/origin/master
   "metadata": {},
   "outputs": [
    {
     "name": "stdout",
     "output_type": "stream",
     "text": [
      "0.5555555555555556\n",
      "0.5555555555555556\n"
     ]
    }
   ],
   "source": [
    "# Precision\n",
    "# When a positive value is predicted, how often is the prediction correct?\n",
    "\n",
    "precision = TP / float(TP + FP)\n",
    "print(precision)\n",
    "print(metrics.precision_score(y_test, y_pred_class))"
   ]
  },
  {
   "cell_type": "code",
<<<<<<< HEAD
   "execution_count": 30,
=======
   "execution_count": 63,
>>>>>>> refs/remotes/origin/master
   "metadata": {},
   "outputs": [
    {
     "data": {
      "text/plain": [
       "array([0, 0, 0, 0, 0, 0, 0, 1, 0, 1], dtype=int64)"
      ]
     },
<<<<<<< HEAD
     "execution_count": 30,
=======
     "execution_count": 63,
>>>>>>> refs/remotes/origin/master
     "metadata": {},
     "output_type": "execute_result"
    }
   ],
   "source": [
    "# print the first 10 predicted responses\n",
    "clf.predict(X_test)[0:10]"
   ]
  },
  {
   "cell_type": "code",
<<<<<<< HEAD
   "execution_count": 31,
=======
   "execution_count": 66,
>>>>>>> refs/remotes/origin/master
   "metadata": {},
   "outputs": [
    {
     "data": {
      "text/plain": [
       "array([[0.63247571, 0.36752429],\n",
       "       [0.71643656, 0.28356344],\n",
       "       [0.71104114, 0.28895886],\n",
       "       [0.5858938 , 0.4141062 ],\n",
       "       [0.84103973, 0.15896027],\n",
       "       [0.82934844, 0.17065156],\n",
       "       [0.50110974, 0.49889026],\n",
       "       [0.48658459, 0.51341541],\n",
       "       [0.72321388, 0.27678612],\n",
       "       [0.32810562, 0.67189438]])"
      ]
     },
<<<<<<< HEAD
     "execution_count": 31,
=======
     "execution_count": 66,
>>>>>>> refs/remotes/origin/master
     "metadata": {},
     "output_type": "execute_result"
    }
   ],
   "source": [
    "# print the first 10 predicted probabilities of class membership\n",
    "\n",
    "clf.predict_proba(X_test)[0:10]\n",
    "\n",
    "# each row, numbers sum to 1\n",
    "# column 0: predicted probability that each observation is a member of class 0\n",
    "# column 1: predicted probability that each observation is a member of class 1\n",
    "# there is a 0.5 classification threshold"
   ]
  },
  {
   "cell_type": "code",
<<<<<<< HEAD
   "execution_count": 32,
=======
   "execution_count": 71,
>>>>>>> refs/remotes/origin/master
   "metadata": {},
   "outputs": [
    {
     "data": {
      "text/plain": [
       "array([0.36752429, 0.28356344, 0.28895886, 0.4141062 , 0.15896027,\n",
       "       0.17065156, 0.49889026, 0.51341541, 0.27678612, 0.67189438])"
      ]
     },
<<<<<<< HEAD
     "execution_count": 32,
=======
     "execution_count": 71,
>>>>>>> refs/remotes/origin/master
     "metadata": {},
     "output_type": "execute_result"
    }
   ],
   "source": [
    "# print the first 10 predicted probabilities for class \n",
    "clf.predict_proba(X_test)[0:10, 1]"
   ]
  },
  {
   "cell_type": "code",
<<<<<<< HEAD
   "execution_count": 33,
=======
   "execution_count": 90,
>>>>>>> refs/remotes/origin/master
   "metadata": {},
   "outputs": [],
   "source": [
    "y_pred_prob=clf.predict_proba(X_test)[:, 1]"
   ]
  },
  {
   "cell_type": "code",
<<<<<<< HEAD
   "execution_count": 34,
=======
   "execution_count": 76,
>>>>>>> refs/remotes/origin/master
   "metadata": {},
   "outputs": [
    {
     "data": {
      "text/plain": [
       "Text(0, 0.5, 'Frequency')"
      ]
     },
<<<<<<< HEAD
     "execution_count": 34,
=======
     "execution_count": 76,
>>>>>>> refs/remotes/origin/master
     "metadata": {},
     "output_type": "execute_result"
    },
    {
     "data": {
<<<<<<< HEAD
      "image/png": "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\n",
=======
      "image/png": "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\n",
>>>>>>> refs/remotes/origin/master
      "text/plain": [
       "<Figure size 432x288 with 1 Axes>"
      ]
     },
     "metadata": {
      "needs_background": "light"
     },
     "output_type": "display_data"
    }
   ],
   "source": [
    "plt.hist(y_pred_prob, bins=8)\n",
    "plt.xlim(0,1)\n",
    "plt.title('Histogram of predicted probabilities')\n",
    "plt.xlabel('Predicted probability of diabetes')\n",
    "plt.ylabel('Frequency')"
   ]
  },
  {
   "cell_type": "markdown",
   "metadata": {},
   "source": [
    "We can see small number of observations with probability > 0.5  in this case most would be predicted \"no diabetes\" . What can we do in this situation? We should decrease the threshold for predicting diabetes, another words - increase the sensitivity of the classifier (increase the number of TP)."
   ]
  },
  {
   "cell_type": "code",
<<<<<<< HEAD
   "execution_count": 35,
=======
   "execution_count": 115,
>>>>>>> refs/remotes/origin/master
   "metadata": {},
   "outputs": [
    {
     "data": {
      "text/plain": [
       "array([[0.63247571, 0.36752429],\n",
       "       [0.71643656, 0.28356344],\n",
       "       [0.71104114, 0.28895886],\n",
       "       [0.5858938 , 0.4141062 ],\n",
       "       [0.84103973, 0.15896027],\n",
       "       [0.82934844, 0.17065156],\n",
       "       [0.50110974, 0.49889026],\n",
       "       [0.48658459, 0.51341541],\n",
       "       [0.72321388, 0.27678612],\n",
       "       [0.32810562, 0.67189438]])"
      ]
     },
<<<<<<< HEAD
     "execution_count": 35,
=======
     "execution_count": 115,
>>>>>>> refs/remotes/origin/master
     "metadata": {},
     "output_type": "execute_result"
    }
   ],
   "source": [
    "from sklearn.preprocessing import binarize\n",
    "y_pred_prob=clf.predict_proba(X_test)\n",
    "y_pred_class = binarize(y_pred_prob, 0.3)[:,1]\n",
    "y_pred_prob[0:10]"
   ]
  },
  {
   "cell_type": "code",
<<<<<<< HEAD
   "execution_count": 36,
=======
   "execution_count": 116,
>>>>>>> refs/remotes/origin/master
   "metadata": {},
   "outputs": [
    {
     "data": {
      "text/plain": [
       "array([1., 0., 0., 1., 0., 0., 1., 1., 0., 1.])"
      ]
     },
<<<<<<< HEAD
     "execution_count": 36,
=======
     "execution_count": 116,
>>>>>>> refs/remotes/origin/master
     "metadata": {},
     "output_type": "execute_result"
    }
   ],
   "source": [
    "y_pred_class[0:10]"
   ]
  },
  {
   "cell_type": "code",
<<<<<<< HEAD
   "execution_count": 37,
=======
   "execution_count": 119,
>>>>>>> refs/remotes/origin/master
   "metadata": {},
   "outputs": [
    {
     "data": {
      "text/plain": [
       "array([[118,  12],\n",
       "       [ 47,  15]], dtype=int64)"
      ]
     },
<<<<<<< HEAD
     "execution_count": 37,
=======
     "execution_count": 119,
>>>>>>> refs/remotes/origin/master
     "metadata": {},
     "output_type": "execute_result"
    }
   ],
   "source": [
    "# old confusion matrix (threshold of 0.5)\n",
    "confusion "
   ]
  },
  {
   "cell_type": "code",
<<<<<<< HEAD
   "execution_count": 38,
=======
   "execution_count": 118,
>>>>>>> refs/remotes/origin/master
   "metadata": {},
   "outputs": [
    {
     "name": "stdout",
     "output_type": "stream",
     "text": [
      "[[80 50]\n",
      " [16 46]]\n"
     ]
    }
   ],
   "source": [
    "# new confusion matrix (threshold of 0.3)\n",
    "print(metrics.confusion_matrix(y_test, y_pred_class))"
   ]
  },
  {
   "cell_type": "markdown",
   "metadata": {},
   "source": [
    "Observations from the left column (in old confusion) moving to the right column because we will have more TP and FP. The row totals are the same\n"
   ]
  },
  {
   "cell_type": "code",
<<<<<<< HEAD
   "execution_count": 39,
=======
   "execution_count": 120,
>>>>>>> refs/remotes/origin/master
   "metadata": {},
   "outputs": [
    {
     "name": "stdout",
     "output_type": "stream",
     "text": [
      "0.7419354838709677\n"
     ]
    }
   ],
   "source": [
    "# sensitivity has increased (used to be 0.24)\n",
    "print (46 / float(46 + 16))"
   ]
  },
  {
   "cell_type": "code",
<<<<<<< HEAD
   "execution_count": 40,
=======
   "execution_count": 121,
>>>>>>> refs/remotes/origin/master
   "metadata": {},
   "outputs": [
    {
     "name": "stdout",
     "output_type": "stream",
     "text": [
      "0.6153846153846154\n"
     ]
    }
   ],
   "source": [
    "# specificity has decreased (used to be 0.91)\n",
    "print(80 / float(80 + 50))"
   ]
  },
  {
   "cell_type": "code",
<<<<<<< HEAD
   "execution_count": 41,
=======
   "execution_count": 128,
>>>>>>> refs/remotes/origin/master
   "metadata": {},
   "outputs": [
    {
     "name": "stdout",
     "output_type": "stream",
     "text": [
      "0.4791666666666667\n"
     ]
    }
   ],
   "source": [
    "# precision has decreased (used to be 0,55)\n",
    "precision = TP / float(TP + FP)\n",
    "print(46/float(46+50))"
   ]
  },
  {
   "cell_type": "markdown",
   "metadata": {},
   "source": [
    "IMPORTANT:Precision and specificity are not the same, but they have similar meanings. We calculate specificity to be able to draw a ROC chart\n"
   ]
  },
  {
   "cell_type": "code",
<<<<<<< HEAD
   "execution_count": 42,
   "metadata": {},
   "outputs": [
    {
     "name": "stdout",
     "output_type": "stream",
     "text": [
      "              precision    recall  f1-score   support\n",
      "\n",
      "           0       0.83      0.62      0.71       130\n",
      "           1       0.48      0.74      0.58        62\n",
      "\n",
      "   micro avg       0.66      0.66      0.66       192\n",
      "   macro avg       0.66      0.68      0.65       192\n",
      "weighted avg       0.72      0.66      0.67       192\n",
      "\n"
     ]
    }
   ],
   "source": [
    "from sklearn.metrics import classification_report\n",
    "print(classification_report(y_test,y_pred_class))"
   ]
  },
  {
   "cell_type": "code",
   "execution_count": 43,
=======
   "execution_count": 132,
>>>>>>> refs/remotes/origin/master
   "metadata": {},
   "outputs": [
    {
     "data": {
<<<<<<< HEAD
      "image/png": "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\n",
=======
      "image/png": "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\n",
>>>>>>> refs/remotes/origin/master
      "text/plain": [
       "<Figure size 432x288 with 1 Axes>"
      ]
     },
     "metadata": {
      "needs_background": "light"
     },
     "output_type": "display_data"
    }
   ],
   "source": [
    "# Receiver Operating Characteristic (ROC) Curves\n",
    "\n",
    "# first argument is true values, second argument is predicted probabilities\n",
    "# roc_curve returns 3 objects fpr, tpr, thresholds\n",
    "# fpr: false positive rate (1-specificity)\n",
    "# tpr: true positive rate (sensitivity)\n",
    "\n",
    "fpr, tpr, thresholds = metrics.roc_curve(y_test, y_pred_prob[:,1])\n",
    "\n",
    "plt.plot(fpr, tpr)\n",
    "plt.xlim([0.0, 1.0])\n",
    "plt.ylim([0.0, 1.0])\n",
    "plt.rcParams['font.size'] = 12\n",
    "plt.title('ROC curve for diabetes classifier')\n",
    "plt.xlabel('False Positive Rate (1 - Specificity)')\n",
    "plt.ylabel('True Positive Rate (Sensitivity)')\n",
    "plt.grid(True)"
   ]
  },
  {
   "cell_type": "markdown",
   "metadata": {},
   "source": [
    "ROC curve can help to choose a threshold that balances sensitivity and specificity(or precision) in a way that makes sense for particular context"
   ]
  },
  {
   "cell_type": "code",
<<<<<<< HEAD
   "execution_count": 44,
=======
   "execution_count": 140,
>>>>>>> refs/remotes/origin/master
   "metadata": {},
   "outputs": [],
   "source": [
    "# define a function that accepts a threshold and prints sensitivity and specificity\n",
    "def change_threshold(threshold):\n",
    "    print('Sensitivity:', tpr[thresholds > threshold][-1])\n",
    "    print('Specificity:', 1 - fpr[thresholds > threshold][-1])"
   ]
  },
  {
   "cell_type": "code",
<<<<<<< HEAD
   "execution_count": 45,
=======
   "execution_count": 141,
>>>>>>> refs/remotes/origin/master
   "metadata": {},
   "outputs": [
    {
     "name": "stdout",
     "output_type": "stream",
     "text": [
      "Sensitivity: 0.24193548387096775\n",
      "Specificity: 0.9076923076923077\n"
     ]
    }
   ],
   "source": [
    "change_threshold(0.5)"
   ]
  },
  {
   "cell_type": "code",
<<<<<<< HEAD
   "execution_count": 46,
=======
   "execution_count": 142,
>>>>>>> refs/remotes/origin/master
   "metadata": {},
   "outputs": [
    {
     "name": "stdout",
     "output_type": "stream",
     "text": [
      "Sensitivity: 0.7258064516129032\n",
      "Specificity: 0.6153846153846154\n"
     ]
    }
   ],
   "source": [
    "change_threshold(0.3)"
   ]
  },
  {
   "cell_type": "code",
<<<<<<< HEAD
   "execution_count": 47,
=======
   "execution_count": 144,
>>>>>>> refs/remotes/origin/master
   "metadata": {},
   "outputs": [
    {
     "name": "stdout",
     "output_type": "stream",
     "text": [
      "0.7245657568238213\n"
     ]
    }
   ],
   "source": [
    "# AUC,higher value = better classifier\n",
    "print(metrics.roc_auc_score(y_test, y_pred_prob[:,1]))"
   ]
  },
  {
   "cell_type": "code",
<<<<<<< HEAD
   "execution_count": 48,
=======
   "execution_count": 148,
>>>>>>> refs/remotes/origin/master
   "metadata": {},
   "outputs": [
    {
     "name": "stderr",
     "output_type": "stream",
     "text": [
      "C:\\Users\\Ewa\\Anaconda3\\lib\\site-packages\\sklearn\\linear_model\\logistic.py:433: FutureWarning: Default solver will be changed to 'lbfgs' in 0.22. Specify a solver to silence this warning.\n",
      "  FutureWarning)\n",
      "C:\\Users\\Ewa\\Anaconda3\\lib\\site-packages\\sklearn\\linear_model\\logistic.py:433: FutureWarning: Default solver will be changed to 'lbfgs' in 0.22. Specify a solver to silence this warning.\n",
      "  FutureWarning)\n",
      "C:\\Users\\Ewa\\Anaconda3\\lib\\site-packages\\sklearn\\linear_model\\logistic.py:433: FutureWarning: Default solver will be changed to 'lbfgs' in 0.22. Specify a solver to silence this warning.\n",
      "  FutureWarning)\n",
      "C:\\Users\\Ewa\\Anaconda3\\lib\\site-packages\\sklearn\\linear_model\\logistic.py:433: FutureWarning: Default solver will be changed to 'lbfgs' in 0.22. Specify a solver to silence this warning.\n",
      "  FutureWarning)\n",
      "C:\\Users\\Ewa\\Anaconda3\\lib\\site-packages\\sklearn\\linear_model\\logistic.py:433: FutureWarning: Default solver will be changed to 'lbfgs' in 0.22. Specify a solver to silence this warning.\n",
      "  FutureWarning)\n",
      "C:\\Users\\Ewa\\Anaconda3\\lib\\site-packages\\sklearn\\linear_model\\logistic.py:433: FutureWarning: Default solver will be changed to 'lbfgs' in 0.22. Specify a solver to silence this warning.\n",
      "  FutureWarning)\n",
      "C:\\Users\\Ewa\\Anaconda3\\lib\\site-packages\\sklearn\\linear_model\\logistic.py:433: FutureWarning: Default solver will be changed to 'lbfgs' in 0.22. Specify a solver to silence this warning.\n",
      "  FutureWarning)\n",
      "C:\\Users\\Ewa\\Anaconda3\\lib\\site-packages\\sklearn\\linear_model\\logistic.py:433: FutureWarning: Default solver will be changed to 'lbfgs' in 0.22. Specify a solver to silence this warning.\n",
      "  FutureWarning)\n",
      "C:\\Users\\Ewa\\Anaconda3\\lib\\site-packages\\sklearn\\linear_model\\logistic.py:433: FutureWarning: Default solver will be changed to 'lbfgs' in 0.22. Specify a solver to silence this warning.\n",
      "  FutureWarning)\n",
      "C:\\Users\\Ewa\\Anaconda3\\lib\\site-packages\\sklearn\\linear_model\\logistic.py:433: FutureWarning: Default solver will be changed to 'lbfgs' in 0.22. Specify a solver to silence this warning.\n",
      "  FutureWarning)\n"
     ]
    },
    {
     "data": {
      "text/plain": [
       "0.7378233618233618"
      ]
     },
<<<<<<< HEAD
     "execution_count": 48,
=======
     "execution_count": 148,
>>>>>>> refs/remotes/origin/master
     "metadata": {},
     "output_type": "execute_result"
    }
   ],
   "source": [
    "# calculate cross-validated AUC\n",
    "from sklearn.model_selection import cross_val_score\n",
    "cross_val_score(clf, X, y, cv=10, scoring='roc_auc').mean()"
   ]
  },
  {
   "cell_type": "code",
<<<<<<< HEAD
   "execution_count": 49,
   "metadata": {},
   "outputs": [
    {
     "name": "stdout",
     "output_type": "stream",
     "text": [
      "0.7291666666666666\n"
     ]
    }
   ],
   "source": [
    "from sklearn.neighbors import KNeighborsClassifier\n",
    "knn=KNeighborsClassifier()\n",
    "knn.fit(X_train,y_train)\n",
    "knn_pred=knn.predict(X_test)\n",
    "knn_pred_prob=knn.predict_proba(X_test)\n",
    "print(metrics.accuracy_score(y_test, knn_pred))\n"
   ]
  },
  {
   "cell_type": "markdown",
   "metadata": {},
   "source": [
    "Choosing a K Value"
   ]
  },
  {
   "cell_type": "code",
   "execution_count": 50,
   "metadata": {},
   "outputs": [],
   "source": [
    "error_rate = []\n",
    "\n",
    "for i in range(1,40):\n",
    "    \n",
    "    knn = KNeighborsClassifier(n_neighbors=i)\n",
    "    knn.fit(X_train,y_train)\n",
    "    pred_i = knn.predict(X_test)\n",
    "    error_rate.append(np.mean(pred_i != y_test))"
   ]
  },
  {
   "cell_type": "code",
   "execution_count": 51,
   "metadata": {},
   "outputs": [
    {
     "data": {
      "text/plain": [
       "Text(0, 0.5, 'Error Rate')"
      ]
     },
     "execution_count": 51,
     "metadata": {},
     "output_type": "execute_result"
    },
    {
     "data": {
      "image/png": "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\n",
      "text/plain": [
       "<Figure size 720x432 with 1 Axes>"
      ]
     },
     "metadata": {
      "needs_background": "light"
     },
     "output_type": "display_data"
    }
   ],
   "source": [
    "plt.figure(figsize=(10,6))\n",
    "plt.plot(range(1,40),error_rate,color='blue', linestyle='dashed', marker='o',\n",
    "         markerfacecolor='red', markersize=10)\n",
    "plt.title('Error Rate vs. K Value')\n",
    "plt.xlabel('K')\n",
    "plt.ylabel('Error Rate')"
   ]
  },
  {
   "cell_type": "code",
   "execution_count": 52,
   "metadata": {},
   "outputs": [
    {
     "name": "stdout",
     "output_type": "stream",
     "text": [
      "0.7552083333333334\n"
     ]
    }
   ],
   "source": [
    "knn = KNeighborsClassifier(n_neighbors=6)\n",
    "\n",
    "knn.fit(X_train,y_train)\n",
    "knn_pred = knn.predict(X_test)\n",
    "knn_pred_prob=knn.predict_proba(X_test)\n",
    "\n",
    "print(metrics.accuracy_score(y_test, knn_pred))"
   ]
  },
  {
   "cell_type": "code",
   "execution_count": 53,
   "metadata": {},
   "outputs": [],
   "source": [
    "from sklearn.tree import DecisionTreeClassifier\n",
    "\n",
    "dtree = DecisionTreeClassifier()\n",
    "dtree.fit(X_train,y_train)\n",
    "dtree_pred = dtree.predict(X_test)\n",
    "dtree_pred_prob=dtree.predict_proba(X_test)"
   ]
  },
  {
   "cell_type": "code",
   "execution_count": 54,
   "metadata": {},
   "outputs": [
    {
     "data": {
      "image/png": "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\n",
      "text/plain": [
       "<Figure size 432x288 with 1 Axes>"
      ]
     },
     "metadata": {
      "needs_background": "light"
     },
     "output_type": "display_data"
    }
   ],
   "source": [
    "fpr, tpr, thresholds = metrics.roc_curve(y_test, y_pred_prob[:,1])\n",
    "knn_fpr,knn_tpr,knn_thresholds = metrics.roc_curve(y_test, knn_pred_prob[:,1])\n",
    "dtree_fpr, dtree_tpr, dtree_thresholds = metrics.roc_curve(y_test, dtree_pred_prob[:,1])\n",
    "\n",
    "plt.plot(fpr, tpr,label=\"Logistic_Regression\")\n",
    "plt.plot(knn_fpr, knn_tpr,label='KNN')\n",
    "plt.plot(dtree_fpr, dtree_tpr,label=\"Decision_Tree\")\n",
    "\n",
    "plt.xlim([0.0, 1.0])\n",
    "plt.ylim([0.0, 1.0])\n",
    "plt.rcParams['font.size'] = 12\n",
    "plt.title('ROC curve for diabetes classifier')\n",
    "plt.xlabel('False Positive Rate (1 - Specificity)')\n",
    "plt.ylabel('True Positive Rate (Sensitivity)')\n",
    "plt.legend(loc=\"lower right\", fontsize=10)\n",
    "plt.grid(True)\n"
   ]
  },
  {
   "cell_type": "code",
   "execution_count": 60,
   "metadata": {},
   "outputs": [
    {
     "name": "stdout",
     "output_type": "stream",
     "text": [
      "clf:0.65625\n",
      "knn:0.7552083333333334\n",
      "dtree:0.6666666666666666\n"
     ]
    }
   ],
   "source": [
    "print('clf:{}'.format(metrics.accuracy_score(y_test, y_pred_class)))\n",
    "print('knn:{}'.format(metrics.accuracy_score(y_test, knn_pred)))\n",
    "print('dtree:{}'.format(metrics.accuracy_score(y_test, dtree_pred)))"
   ]
=======
   "execution_count": null,
   "metadata": {},
   "outputs": [],
   "source": []
>>>>>>> refs/remotes/origin/master
  }
 ],
 "metadata": {
  "kernelspec": {
   "display_name": "Python 3",
   "language": "python",
   "name": "python3"
  },
  "language_info": {
   "codemirror_mode": {
    "name": "ipython",
    "version": 3
   },
   "file_extension": ".py",
   "mimetype": "text/x-python",
   "name": "python",
   "nbconvert_exporter": "python",
   "pygments_lexer": "ipython3",
   "version": "3.7.1"
  }
 },
 "nbformat": 4,
 "nbformat_minor": 2
}
